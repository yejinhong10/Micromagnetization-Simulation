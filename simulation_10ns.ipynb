{
 "cells": [
  {
   "cell_type": "code",
   "execution_count": 2,
   "id": "82725c8d",
   "metadata": {
    "ExecuteTime": {
     "end_time": "2021-05-25T20:24:32.765530Z",
     "start_time": "2021-05-25T20:24:31.933846Z"
    }
   },
   "outputs": [
    {
     "name": "stderr",
     "output_type": "stream",
     "text": [
      "objc[42787]: Class QMacAutoReleasePoolTracker is implemented in both /Users/yejinhong/opt/anaconda3/envs/ubermag/lib/libQt5Core.5.15.6.dylib (0x16b8c12c8) and /Users/yejinhong/opt/anaconda3/envs/ubermag/lib/python3.9/site-packages/PyQt5/Qt5/lib/QtCore.framework/Versions/5/QtCore (0x17a6e9198). One of the two will be used. Which one is undefined.\n",
      "objc[42787]: Class QT_ROOT_LEVEL_POOL__THESE_OBJECTS_WILL_BE_RELEASED_WHEN_QAPP_GOES_OUT_OF_SCOPE is implemented in both /Users/yejinhong/opt/anaconda3/envs/ubermag/lib/libQt5Core.5.15.6.dylib (0x16b8c1340) and /Users/yejinhong/opt/anaconda3/envs/ubermag/lib/python3.9/site-packages/PyQt5/Qt5/lib/QtCore.framework/Versions/5/QtCore (0x17a6e9210). One of the two will be used. Which one is undefined.\n",
      "objc[42787]: Class KeyValueObserver is implemented in both /Users/yejinhong/opt/anaconda3/envs/ubermag/lib/libQt5Core.5.15.6.dylib (0x16b8c1368) and /Users/yejinhong/opt/anaconda3/envs/ubermag/lib/python3.9/site-packages/PyQt5/Qt5/lib/QtCore.framework/Versions/5/QtCore (0x17a6e9238). One of the two will be used. Which one is undefined.\n",
      "objc[42787]: Class RunLoopModeTracker is implemented in both /Users/yejinhong/opt/anaconda3/envs/ubermag/lib/libQt5Core.5.15.6.dylib (0x16b8c13b8) and /Users/yejinhong/opt/anaconda3/envs/ubermag/lib/python3.9/site-packages/PyQt5/Qt5/lib/QtCore.framework/Versions/5/QtCore (0x17a6e9288). One of the two will be used. Which one is undefined.\n"
     ]
    }
   ],
   "source": [
    "import numpy as np\n",
    "import matplotlib.pyplot as plt\n",
    "import matplotlib\n",
    "\n",
    "import shutil\n",
    "import os\n",
    "import oommfc as oc\n",
    "\n",
    "\n",
    "import imageio\n",
    "import math\n",
    "import discretisedfield as df\n",
    "import micromagneticmodel as mm\n",
    "import micromagneticdata as md\n",
    "from tqdm import tqdm\n",
    "\n",
    "from mayavi import mlab\n",
    "from mayavi.core.lut_manager import lut_mode_list, lut_image_dir\n"
   ]
  },
  {
   "cell_type": "code",
   "execution_count": 18,
   "id": "895c81da",
   "metadata": {},
   "outputs": [],
   "source": [
    "# GLOBAL VARIABLES\n",
    "LOCATION = \"/Users/yejinhong/ubermag-test\"\n",
    "DIR = \"pulse10ns_rise_time_Jc3p2e12\"\n",
    "GLOBAL_H_X =  0.16 #(in T)\n",
    "GLOBAL_H_Z =  0.03 #(in T)\n",
    "GLOBAL_U = (0,0,1)\n",
    "PULSE_DURATION1 = 10e-9  # Duration of Current Pulse / Change Duration\n",
    "DIRC = -1          #-1 for positive current density\n",
    "GLOBAL_JC  =  [3.2e12] # Current Density\n",
    "VALUE=(0.001,0,1)"
   ]
  },
  {
   "cell_type": "code",
   "execution_count": 24,
   "id": "10e5cbe8",
   "metadata": {},
   "outputs": [
    {
     "ename": "ValueError",
     "evalue": "The truth value of an array with more than one element is ambiguous. Use a.any() or a.all()",
     "output_type": "error",
     "traceback": [
      "\u001b[0;31m---------------------------------------------------------------------------\u001b[0m",
      "\u001b[0;31mValueError\u001b[0m                                Traceback (most recent call last)",
      "Cell \u001b[0;32mIn [24], line 17\u001b[0m\n\u001b[1;32m     14\u001b[0m         \u001b[38;5;28;01mreturn\u001b[39;00m current\n\u001b[1;32m     16\u001b[0m time \u001b[38;5;241m=\u001b[39m np\u001b[38;5;241m.\u001b[39marange(\u001b[38;5;241m0\u001b[39m,\u001b[38;5;241m30e-9\u001b[39m,\u001b[38;5;241m1e-9\u001b[39m)\n\u001b[0;32m---> 17\u001b[0m current \u001b[38;5;241m=\u001b[39m \u001b[43mtime_func\u001b[49m\u001b[43m(\u001b[49m\u001b[43mtime\u001b[49m\u001b[43m)\u001b[49m\n\u001b[1;32m     18\u001b[0m plt\u001b[38;5;241m.\u001b[39mplot(time,current)\n\u001b[1;32m     19\u001b[0m \u001b[38;5;28mprint\u001b[39m(time)\n",
      "Cell \u001b[0;32mIn [24], line 3\u001b[0m, in \u001b[0;36mtime_func\u001b[0;34m(t)\u001b[0m\n\u001b[1;32m      1\u001b[0m \u001b[38;5;28;01mdef\u001b[39;00m \u001b[38;5;21mtime_func\u001b[39m(t):\n\u001b[1;32m      2\u001b[0m     trf \u001b[38;5;241m=\u001b[39m \u001b[38;5;241m10e-10\u001b[39m\n\u001b[0;32m----> 3\u001b[0m     \u001b[38;5;28;01mif\u001b[39;00m (T0\u001b[38;5;241m<\u001b[39m\u001b[38;5;241m=\u001b[39mt) \u001b[38;5;129;01mand\u001b[39;00m (t\u001b[38;5;241m<\u001b[39m(T0\u001b[38;5;241m+\u001b[39mtrf)):\n\u001b[1;32m      4\u001b[0m         current \u001b[38;5;241m=\u001b[39m (\u001b[38;5;241m2.8e12\u001b[39m\u001b[38;5;241m/\u001b[39mtrf)\u001b[38;5;241m*\u001b[39m(t\u001b[38;5;241m-\u001b[39mT0)\n\u001b[1;32m      5\u001b[0m         \u001b[38;5;28;01mreturn\u001b[39;00m current\n",
      "\u001b[0;31mValueError\u001b[0m: The truth value of an array with more than one element is ambiguous. Use a.any() or a.all()"
     ]
    }
   ],
   "source": [
    "\n",
    "def time_func(t):\n",
    "    trf = 10e-10\n",
    "    if (T0<=t) and (t<(T0+trf)):\n",
    "        current = (2.8e12/trf)*(t-T0)\n",
    "    elif (T0+trf) <= t and t < (T0+trf+pulse_duration1):\n",
    "        current = 2.8e12 \n",
    "    elif (T0+trf+pulse_duration1) <= t and t < (T0+trf+pulse_duration1+trf):\n",
    "        current = 2.8e12-(2.8e12/trf)*(t-T0-trf-pulse_duration1)\n",
    "    else:\n",
    "        current = 0\n",
    "    return current\n",
    "    \n",
    "time = np.arange(0,30e-9,1e-9)\n",
    "current = time_func(time)\n",
    "plt.plot(time,current)\n",
    "print(time)\n",
    "\n",
    "\n",
    "# test 1\n",
    "def time_func(t):\n",
    "    trf = 10e-10\n",
    "    if (T0<=t) and (t<(T0+trf)):\n",
    "        current = (t-T0)/trf\n",
    "    elif (T0+trf) <= t and t < (T0+trf+pulse_duration1):\n",
    "        current = 1\n",
    "    elif (T0+trf+pulse_duration1) <= t and t < (T0+trf+pulse_duration1+trf):\n",
    "        current = (-1)*(t-T0-trf-pulse_duration1)/(trf)\n",
    "    else:\n",
    "        current = 0\n",
    "    return current\n",
    "\n",
    "\n",
    "# test 2, gave current error (current was defined too early)\n",
    "def time_func(t):\n",
    "    trf = 10e-10\n",
    "    if (T0<=t) and (t<(T0+trf)):\n",
    "        current = (2.8e12/trf)*(t-T0)\n",
    "    elif (T0+trf) <= t and t < (T0+trf+pulse_duration1):\n",
    "        current = 2.8e12 \n",
    "    elif (T0+trf+pulse_duration1) <= t and t < (T0+trf+pulse_duration1+trf):\n",
    "        current = 2.8e12-(2.8e12/trf)*(t-T0-trf-pulse_duration1)\n",
    "    else:\n",
    "        current = 0\n",
    "    return current\n",
    "\n",
    "\n",
    "# test 3\n",
    "def time_func(t):\n",
    "    trf = 1e-10\n",
    "    if (T0<=t) and (t<(T0+trf)):\n",
    "        current = (2.8e12/trf)*(t-T0)\n",
    "        return current\n",
    "    elif (T0+trf) <= t and t < (T0+trf+pulse_duration1):\n",
    "        current = 2.8e12 \n",
    "        return current\n",
    "    elif (T0+trf+pulse_duration1) <= t and t < (T0+trf+pulse_duration1+trf):\n",
    "        current = 2.8e12-(2.8e12/trf)*(t-T0-trf-pulse_duration1)\n",
    "        return current\n"
   ]
  },
  {
   "cell_type": "code",
   "execution_count": 19,
   "id": "da613b48",
   "metadata": {
    "ExecuteTime": {
     "end_time": "2021-05-25T20:26:41.447300Z",
     "start_time": "2021-05-25T20:26:41.443515Z"
    }
   },
   "outputs": [],
   "source": [
    "Ms = 1.0e6       # saturation magnetisation (A/m), 1200 emu/cc, 1 A/m = 0.012 Oe\n",
    "A = 2.0e-11      # exchange energy constant (J/m)\n",
    "\n",
    "alpha = 0.22    # Gilbert damping \n",
    "gamma0 = 2.211e5\n",
    "K1 = 1.0e6       #Anisotropy Energy, the sample has PMA (normal 6.4e5, 0.5 mz for 4.0e5)\n",
    "Hk = -(((4*3.14)-((2*K1*10)/(Ms*1e-3)))/1e4)\n",
    "\n",
    "H_x =  GLOBAL_H_X # GLOBAL VAR IS USED.\n",
    "H_z =  GLOBAL_H_Z # GLOBAL VAR IS USED.\n",
    "H = 8e5 * np.array([H_x, 0.00, H_z]) # External Magnetic Field (T)\n",
    "\n",
    "region = df.Region(p1 = (-100e-9, -100e-9, 0), p2 = (100e-9, 100e-9, 4e-9))\n",
    "mesh = df.Mesh(region=region, cell=(5e-9, 5e-9, 1e-9))\n",
    "system = mm.System(name=DIR) # GLOBAL VAR IS USED.\n",
    "system.energy = mm.Exchange(A=A) + mm.UniaxialAnisotropy(K=K1, u=GLOBAL_U) + mm.Demag() + mm.Zeeman(H=H) # GLOBAL VAR IS USED.\n",
    "\n",
    "def Ms_fun(pos):\n",
    "    x, y, z = pos\n",
    "    if (x**2 + y**2)**0.5 < 100e-9: # radius \n",
    "        return Ms\n",
    "    else:\n",
    "        return 0\n",
    "#system.m = df.Field(mesh, dim=3, value(0, 0, 1), norm = Ms_fun)\n"
   ]
  },
  {
   "cell_type": "code",
   "execution_count": 20,
   "id": "c00dc5a4",
   "metadata": {
    "ExecuteTime": {
     "end_time": "2021-05-25T20:26:53.367569Z",
     "start_time": "2021-05-25T20:26:53.361540Z"
    }
   },
   "outputs": [
    {
     "name": "stderr",
     "output_type": "stream",
     "text": [
      "\r",
      "  0%|          | 0/1 [00:00<?, ?it/s]"
     ]
    },
    {
     "name": "stdout",
     "output_type": "stream",
     "text": [
      "Running OOMMF (ExeOOMMFRunner)[2022/10/24 18:38]... (15.4 s)\n",
      "Running OOMMF (ExeOOMMFRunner)[2022/10/24 18:38]... (1079.7 s)\n",
      "Running OOMMF (ExeOOMMFRunner)[2022/10/24 18:56]... (2601.5 s)\n"
     ]
    },
    {
     "name": "stderr",
     "output_type": "stream",
     "text": [
      "100%|██████████| 1/1 [1:01:37<00:00, 3697.30s/it]\n"
     ]
    },
    {
     "data": {
      "image/png": "[encoded data removed]",
      "text/plain": [
       "<Figure size 1000x800 with 1 Axes>"
      ]
     },
     "metadata": {},
     "output_type": "display_data"
    }
   ],
   "source": [
    "T0 = 1e-9\n",
    "N0 = 100\n",
    "trf = 1e-10\n",
    "pulse_duration1 = PULSE_DURATION1  # Duration of Current Pulse / Change Duration # GLOBAL VAR IS USED.\n",
    "p1 = trf*2 + pulse_duration1\n",
    "N1 = 1000\n",
    "pulse_duration2 = 30e-9  # Duration of Current Pulse / Leave it unchanged\n",
    "N2 = 1000\n",
    "dirc = DIRC          #-1 for positive current density # GLOBAL VAR IS USED.\n",
    "Theta = 0.3         #0.4 \n",
    "P = 1.0*Theta        #1.0*Theta // Change Theta\n",
    "L = 1.0                #2.0 \n",
    "ep_real = (P*L*L)/((L*L+1.0)+(L*L-1.0))\n",
    "ep_imag = ep_real*0.05\n",
    "\n",
    "Jc  =  GLOBAL_JC # Current Density\n",
    "\n",
    "def time_func(t):\n",
    "    if (T0<=t) and (t<(T0+trf)):\n",
    "        current = (t-T0)/trf\n",
    "    elif (T0+trf) <= t and t < (T0+trf+pulse_duration1):\n",
    "        current = 1\n",
    "    elif (T0+trf+pulse_duration1) <= t and t < (T0+trf+pulse_duration1+trf):\n",
    "        current = (-1)*(t-T0-trf-pulse_duration1)/(trf)\n",
    "    else:\n",
    "        current = 0\n",
    "    return current\n",
    "\n",
    "\n",
    "#time_func = np.vectorize(time_func)\n",
    "\n",
    "\n",
    "\n",
    "location = LOCATION # GLOBAL VAR IS USED.\n",
    "dir = DIR # GLOBAL VAR IS USED.\n",
    "path = os.path.join(location,dir)\n",
    "\n",
    "# Trying to create a location+dir directory.\n",
    "try: \n",
    "    os.mkdir(path) \n",
    "except OSError as error: \n",
    "    print(error)  \n",
    "\n",
    "for i in tqdm(range(len(Jc))):\n",
    "    shutil.rmtree(path)\n",
    "    system = mm.System(name=DIR) # GLOBAL VAR IS USED.\n",
    "    system.energy = mm.Exchange(A=A) + mm.Zeeman(H=H) + mm.UniaxialAnisotropy(K=K1, u=GLOBAL_U) + mm.Demag() # GLOBAL VAR IS USED.\n",
    "    system.m = df.Field(mesh, dim=3, value=VALUE, norm=Ms_fun) # GLOBAL VAR IS USED.\n",
    "    # value was (0, 0.01, 1) this is the direction we are initializing the magnetization\n",
    "    \n",
    "    system.dynamics =  mm.Damping(alpha=alpha)\n",
    "    Jc1=Jc[i]\n",
    "    td = oc.TimeDriver()\n",
    "    td.drive(system, t=T0, n=N0)\n",
    "    \n",
    "    system.dynamics = mm.Precession(gamma0=gamma0) + mm.Damping(alpha=alpha) +  mm.Slonczewski(J= Jc1, mp = (0, dirc, 0), P = P, Lambda = L, eps_prime = ep_imag, func=time_func, dt=5e-13)\n",
    "    td = oc.TimeDriver()\n",
    "    td.drive(system, t=p1, n=N1)\n",
    "    \n",
    "    system.dynamics -= mm.Slonczewski(J = Jc1, mp = (0, dirc, 0), P = P, Lambda = L, eps_prime = ep_imag, func=time_func, dt=5e-13) # Same Result with the next two commands\n",
    "    td = oc.TimeDriver()\n",
    "    td.drive(system, t=pulse_duration2, n=N2)\n",
    "    \n",
    "    data = md.Data(name=system.name)\n",
    "    drive45 = data[0]\n",
    "    drive46 = data[1]\n",
    "    drive47 = data[2]\n",
    "    combined =  data[0] << data[1] << data[2]\n",
    "    \n",
    "    \n",
    "    fig = plt.figure(figsize=(10,8))\n",
    "    ax = fig.add_subplot(1,1,1)\n",
    "    combined.table.mpl(ax=ax,x=\"t\", y=[\"mz\"], color='b',linewidth= 4,alpha=0.6,)\n",
    "    ax.grid('on',color='k', linewidth=1,alpha=0.2)\n",
    "    ax.set_ylim(-1,1)\n",
    "    ax.set_xlim(0.8,45)\n",
    "    \n",
    "    plt.tight_layout()\n",
    "    #plt.savefig(path+'Co70Gd30_CoPt_in_ex_'+str('%.2e' % ((in_ex_1+j*dex)*100))+'_power_'+str('%.2e' % ((Ain+i*dA)*1.2))+'_Koopmans_100fs.jpg', dpi=300)\n",
    "    \n",
    "    \n",
    "    plt.savefig(path+\".jpg\".format(i=i*1e12),dpi=90)\n",
    "    \n",
    "#+ mm.DMI(D=0.8e-3, crystalclass=\"Cnv\") +mm.Demag() "
   ]
  },
  {
   "cell_type": "markdown",
   "id": "6e7061a6",
   "metadata": {},
   "source": [
    "# Shading the region"
   ]
  },
  {
   "cell_type": "code",
   "execution_count": 101,
   "id": "13a8ded3",
   "metadata": {},
   "outputs": [
    {
     "data": {
      "image/png": "[encoded data removed]",
      "text/plain": [
       "<Figure size 1000x800 with 1 Axes>"
      ]
     },
     "metadata": {},
     "output_type": "display_data"
    }
   ],
   "source": [
    "data = md.Data(name=\"_100ps_test11\")\n",
    "drive45 = data[0]\n",
    "drive46 = data[1]\n",
    "drive47 = data[2]\n",
    "combined =  data[0] << data[1] << data[2]\n",
    "    \n",
    "    \n",
    "fig = plt.figure(figsize=(10,8))\n",
    "ax = fig.add_subplot(1,1,1)\n",
    "combined.table.mpl(ax=ax,x=\"t\", y=[\"mz\"], color='b',linewidth= 4,alpha=0.6,)\n",
    "ax.grid('on',color='k', linewidth=1,alpha=0.2)\n",
    "ax.set_ylim(-1,1)\n",
    "ax.set_xlim(0.8,10)\n",
    "line1 = 1\n",
    "line2 = 1.1\n",
    "ax.axvspan(line1,line2,alpha=0.5,color='gray')\n",
    "\n",
    "\n",
    "plt.tight_layout()\n",
    "plt.savefig(path+\"_ver2.jpg\".format(i=i*1e12),dpi=90)"
   ]
  },
  {
   "cell_type": "markdown",
   "id": "2a24e512",
   "metadata": {},
   "source": [
    "# Spin Visualization / try to fix this"
   ]
  },
  {
   "cell_type": "code",
   "execution_count": 57,
   "id": "9528b3ef",
   "metadata": {},
   "outputs": [
    {
     "name": "stdout",
     "output_type": "stream",
     "text": [
      "[Errno 17] File exists: '/Users/yejinhong/ubermag-test/spin_500ps_test3'\n"
     ]
    },
    {
     "ename": "KeyboardInterrupt",
     "evalue": "",
     "output_type": "error",
     "traceback": [
      "\u001b[0;31m---------------------------------------------------------------------------\u001b[0m",
      "\u001b[0;31mKeyboardInterrupt\u001b[0m                         Traceback (most recent call last)",
      "Cell \u001b[0;32mIn [57], line 19\u001b[0m\n\u001b[1;32m     17\u001b[0m i \u001b[38;5;241m=\u001b[39m i\u001b[38;5;241m*\u001b[39m\u001b[38;5;241m10\u001b[39m\n\u001b[1;32m     18\u001b[0m fig \u001b[38;5;241m=\u001b[39m plt\u001b[38;5;241m.\u001b[39mfigure(figsize\u001b[38;5;241m=\u001b[39m(\u001b[38;5;241m10\u001b[39m,\u001b[38;5;241m8\u001b[39m))\n\u001b[0;32m---> 19\u001b[0m ax \u001b[38;5;241m=\u001b[39m \u001b[43mfig\u001b[49m\u001b[38;5;241;43m.\u001b[39;49m\u001b[43madd_subplot\u001b[49m\u001b[43m(\u001b[49m\u001b[38;5;241;43m1\u001b[39;49m\u001b[43m,\u001b[49m\u001b[38;5;241;43m1\u001b[39;49m\u001b[43m,\u001b[49m\u001b[38;5;241;43m1\u001b[39;49m\u001b[43m)\u001b[49m\n\u001b[1;32m     20\u001b[0m combined[i]\u001b[38;5;241m.\u001b[39mz\u001b[38;5;241m.\u001b[39mplane(\u001b[38;5;124m'\u001b[39m\u001b[38;5;124mz\u001b[39m\u001b[38;5;124m'\u001b[39m)\u001b[38;5;241m.\u001b[39mmpl\u001b[38;5;241m.\u001b[39mscalar(ax\u001b[38;5;241m=\u001b[39max,cmap\u001b[38;5;241m=\u001b[39m\u001b[38;5;124m'\u001b[39m\u001b[38;5;124mbwr\u001b[39m\u001b[38;5;124m'\u001b[39m, clim\u001b[38;5;241m=\u001b[39m(\u001b[38;5;241m-\u001b[39m\u001b[38;5;241m1e6\u001b[39m, \u001b[38;5;241m1e6\u001b[39m))\n\u001b[1;32m     21\u001b[0m combined[i]\u001b[38;5;241m.\u001b[39mplane(\u001b[38;5;124m'\u001b[39m\u001b[38;5;124mz\u001b[39m\u001b[38;5;124m'\u001b[39m,n\u001b[38;5;241m=\u001b[39m(\u001b[38;5;241m10\u001b[39m,\u001b[38;5;241m10\u001b[39m))\u001b[38;5;241m.\u001b[39mmpl\u001b[38;5;241m.\u001b[39mvector(ax\u001b[38;5;241m=\u001b[39max,color_field\u001b[38;5;241m=\u001b[39mcombined[i]\u001b[38;5;241m.\u001b[39mz,colorbar\u001b[38;5;241m=\u001b[39m\u001b[38;5;28;01mFalse\u001b[39;00m, colorbar_label\u001b[38;5;241m=\u001b[39m\u001b[38;5;124m'\u001b[39m\u001b[38;5;124mvector\u001b[39m\u001b[38;5;124m'\u001b[39m, cmap\u001b[38;5;241m=\u001b[39m\u001b[38;5;124m'\u001b[39m\u001b[38;5;124mpink\u001b[39m\u001b[38;5;124m'\u001b[39m,clim\u001b[38;5;241m=\u001b[39m(\u001b[38;5;241m-\u001b[39m\u001b[38;5;241m1e6\u001b[39m,\u001b[38;5;241m1e6\u001b[39m))\n",
      "File \u001b[0;32m~/opt/anaconda3/envs/ubermag/lib/python3.9/site-packages/matplotlib/figure.py:772\u001b[0m, in \u001b[0;36mFigureBase.add_subplot\u001b[0;34m(self, *args, **kwargs)\u001b[0m\n\u001b[1;32m    769\u001b[0m         args \u001b[38;5;241m=\u001b[39m \u001b[38;5;28mtuple\u001b[39m(\u001b[38;5;28mmap\u001b[39m(\u001b[38;5;28mint\u001b[39m, \u001b[38;5;28mstr\u001b[39m(args[\u001b[38;5;241m0\u001b[39m])))\n\u001b[1;32m    770\u001b[0m     projection_class, pkw \u001b[38;5;241m=\u001b[39m \u001b[38;5;28mself\u001b[39m\u001b[38;5;241m.\u001b[39m_process_projection_requirements(\n\u001b[1;32m    771\u001b[0m         \u001b[38;5;241m*\u001b[39margs, \u001b[38;5;241m*\u001b[39m\u001b[38;5;241m*\u001b[39mkwargs)\n\u001b[0;32m--> 772\u001b[0m     ax \u001b[38;5;241m=\u001b[39m \u001b[43msubplot_class_factory\u001b[49m\u001b[43m(\u001b[49m\u001b[43mprojection_class\u001b[49m\u001b[43m)\u001b[49m\u001b[43m(\u001b[49m\u001b[38;5;28;43mself\u001b[39;49m\u001b[43m,\u001b[49m\u001b[43m \u001b[49m\u001b[38;5;241;43m*\u001b[39;49m\u001b[43margs\u001b[49m\u001b[43m,\u001b[49m\u001b[43m \u001b[49m\u001b[38;5;241;43m*\u001b[39;49m\u001b[38;5;241;43m*\u001b[39;49m\u001b[43mpkw\u001b[49m\u001b[43m)\u001b[49m\n\u001b[1;32m    773\u001b[0m     key \u001b[38;5;241m=\u001b[39m (projection_class, pkw)\n\u001b[1;32m    774\u001b[0m \u001b[38;5;28;01mreturn\u001b[39;00m \u001b[38;5;28mself\u001b[39m\u001b[38;5;241m.\u001b[39m_add_axes_internal(ax, key)\n",
      "File \u001b[0;32m~/opt/anaconda3/envs/ubermag/lib/python3.9/site-packages/matplotlib/axes/_subplots.py:34\u001b[0m, in \u001b[0;36mSubplotBase.__init__\u001b[0;34m(self, fig, *args, **kwargs)\u001b[0m\n\u001b[1;32m     15\u001b[0m \u001b[38;5;124;03m\"\"\"\u001b[39;00m\n\u001b[1;32m     16\u001b[0m \u001b[38;5;124;03mParameters\u001b[39;00m\n\u001b[1;32m     17\u001b[0m \u001b[38;5;124;03m----------\u001b[39;00m\n\u001b[0;32m   (...)\u001b[0m\n\u001b[1;32m     31\u001b[0m \u001b[38;5;124;03m    Keyword arguments are passed to the Axes (sub)class constructor.\u001b[39;00m\n\u001b[1;32m     32\u001b[0m \u001b[38;5;124;03m\"\"\"\u001b[39;00m\n\u001b[1;32m     33\u001b[0m \u001b[38;5;66;03m# _axes_class is set in the subplot_class_factory\u001b[39;00m\n\u001b[0;32m---> 34\u001b[0m \u001b[38;5;28;43mself\u001b[39;49m\u001b[38;5;241;43m.\u001b[39;49m\u001b[43m_axes_class\u001b[49m\u001b[38;5;241;43m.\u001b[39;49m\u001b[38;5;21;43m__init__\u001b[39;49m\u001b[43m(\u001b[49m\u001b[38;5;28;43mself\u001b[39;49m\u001b[43m,\u001b[49m\u001b[43m \u001b[49m\u001b[43mfig\u001b[49m\u001b[43m,\u001b[49m\u001b[43m \u001b[49m\u001b[43m[\u001b[49m\u001b[38;5;241;43m0\u001b[39;49m\u001b[43m,\u001b[49m\u001b[43m \u001b[49m\u001b[38;5;241;43m0\u001b[39;49m\u001b[43m,\u001b[49m\u001b[43m \u001b[49m\u001b[38;5;241;43m1\u001b[39;49m\u001b[43m,\u001b[49m\u001b[43m \u001b[49m\u001b[38;5;241;43m1\u001b[39;49m\u001b[43m]\u001b[49m\u001b[43m,\u001b[49m\u001b[43m \u001b[49m\u001b[38;5;241;43m*\u001b[39;49m\u001b[38;5;241;43m*\u001b[39;49m\u001b[43mkwargs\u001b[49m\u001b[43m)\u001b[49m\n\u001b[1;32m     35\u001b[0m \u001b[38;5;66;03m# This will also update the axes position.\u001b[39;00m\n\u001b[1;32m     36\u001b[0m \u001b[38;5;28mself\u001b[39m\u001b[38;5;241m.\u001b[39mset_subplotspec(SubplotSpec\u001b[38;5;241m.\u001b[39m_from_subplot_args(fig, args))\n",
      "File \u001b[0;32m~/opt/anaconda3/envs/ubermag/lib/python3.9/site-packages/matplotlib/_api/deprecation.py:459\u001b[0m, in \u001b[0;36mmake_keyword_only.<locals>.wrapper\u001b[0;34m(*args, **kwargs)\u001b[0m\n\u001b[1;32m    453\u001b[0m \u001b[38;5;28;01mif\u001b[39;00m \u001b[38;5;28mlen\u001b[39m(args) \u001b[38;5;241m>\u001b[39m name_idx:\n\u001b[1;32m    454\u001b[0m     warn_deprecated(\n\u001b[1;32m    455\u001b[0m         since, message\u001b[38;5;241m=\u001b[39m\u001b[38;5;124m\"\u001b[39m\u001b[38;5;124mPassing the \u001b[39m\u001b[38;5;132;01m%(name)s\u001b[39;00m\u001b[38;5;124m \u001b[39m\u001b[38;5;132;01m%(obj_type)s\u001b[39;00m\u001b[38;5;124m \u001b[39m\u001b[38;5;124m\"\u001b[39m\n\u001b[1;32m    456\u001b[0m         \u001b[38;5;124m\"\u001b[39m\u001b[38;5;124mpositionally is deprecated since Matplotlib \u001b[39m\u001b[38;5;132;01m%(since)s\u001b[39;00m\u001b[38;5;124m; the \u001b[39m\u001b[38;5;124m\"\u001b[39m\n\u001b[1;32m    457\u001b[0m         \u001b[38;5;124m\"\u001b[39m\u001b[38;5;124mparameter will become keyword-only \u001b[39m\u001b[38;5;132;01m%(removal)s\u001b[39;00m\u001b[38;5;124m.\u001b[39m\u001b[38;5;124m\"\u001b[39m,\n\u001b[1;32m    458\u001b[0m         name\u001b[38;5;241m=\u001b[39mname, obj_type\u001b[38;5;241m=\u001b[39m\u001b[38;5;124mf\u001b[39m\u001b[38;5;124m\"\u001b[39m\u001b[38;5;124mparameter of \u001b[39m\u001b[38;5;132;01m{\u001b[39;00mfunc\u001b[38;5;241m.\u001b[39m\u001b[38;5;18m__name__\u001b[39m\u001b[38;5;132;01m}\u001b[39;00m\u001b[38;5;124m()\u001b[39m\u001b[38;5;124m\"\u001b[39m)\n\u001b[0;32m--> 459\u001b[0m \u001b[38;5;28;01mreturn\u001b[39;00m \u001b[43mfunc\u001b[49m\u001b[43m(\u001b[49m\u001b[38;5;241;43m*\u001b[39;49m\u001b[43margs\u001b[49m\u001b[43m,\u001b[49m\u001b[43m \u001b[49m\u001b[38;5;241;43m*\u001b[39;49m\u001b[38;5;241;43m*\u001b[39;49m\u001b[43mkwargs\u001b[49m\u001b[43m)\u001b[49m\n",
      "File \u001b[0;32m~/opt/anaconda3/envs/ubermag/lib/python3.9/site-packages/matplotlib/axes/_base.py:632\u001b[0m, in \u001b[0;36m_AxesBase.__init__\u001b[0;34m(self, fig, rect, facecolor, frameon, sharex, sharey, label, xscale, yscale, box_aspect, **kwargs)\u001b[0m\n\u001b[1;32m    629\u001b[0m \u001b[38;5;28mself\u001b[39m\u001b[38;5;241m.\u001b[39mset_axisbelow(mpl\u001b[38;5;241m.\u001b[39mrcParams[\u001b[38;5;124m'\u001b[39m\u001b[38;5;124maxes.axisbelow\u001b[39m\u001b[38;5;124m'\u001b[39m])\n\u001b[1;32m    631\u001b[0m \u001b[38;5;28mself\u001b[39m\u001b[38;5;241m.\u001b[39m_rasterization_zorder \u001b[38;5;241m=\u001b[39m \u001b[38;5;28;01mNone\u001b[39;00m\n\u001b[0;32m--> 632\u001b[0m \u001b[38;5;28;43mself\u001b[39;49m\u001b[38;5;241;43m.\u001b[39;49m\u001b[43mcla\u001b[49m\u001b[43m(\u001b[49m\u001b[43m)\u001b[49m\n\u001b[1;32m    634\u001b[0m \u001b[38;5;66;03m# funcs used to format x and y - fall back on major formatters\u001b[39;00m\n\u001b[1;32m    635\u001b[0m \u001b[38;5;28mself\u001b[39m\u001b[38;5;241m.\u001b[39mfmt_xdata \u001b[38;5;241m=\u001b[39m \u001b[38;5;28;01mNone\u001b[39;00m\n",
      "File \u001b[0;32m~/opt/anaconda3/envs/ubermag/lib/python3.9/site-packages/matplotlib/axes/_base.py:1250\u001b[0m, in \u001b[0;36m_AxesBase.cla\u001b[0;34m(self)\u001b[0m\n\u001b[1;32m   1247\u001b[0m \u001b[38;5;28mself\u001b[39m\u001b[38;5;241m.\u001b[39mlegend_ \u001b[38;5;241m=\u001b[39m \u001b[38;5;28;01mNone\u001b[39;00m\n\u001b[1;32m   1248\u001b[0m \u001b[38;5;28mself\u001b[39m\u001b[38;5;241m.\u001b[39mcontainers \u001b[38;5;241m=\u001b[39m []\n\u001b[0;32m-> 1250\u001b[0m \u001b[38;5;28;43mself\u001b[39;49m\u001b[38;5;241;43m.\u001b[39;49m\u001b[43mgrid\u001b[49m\u001b[43m(\u001b[49m\u001b[38;5;28;43;01mFalse\u001b[39;49;00m\u001b[43m)\u001b[49m  \u001b[38;5;66;03m# Disable grid on init to use rcParameter\u001b[39;00m\n\u001b[1;32m   1251\u001b[0m \u001b[38;5;28mself\u001b[39m\u001b[38;5;241m.\u001b[39mgrid(\u001b[38;5;28mself\u001b[39m\u001b[38;5;241m.\u001b[39m_gridOn, which\u001b[38;5;241m=\u001b[39mmpl\u001b[38;5;241m.\u001b[39mrcParams[\u001b[38;5;124m'\u001b[39m\u001b[38;5;124maxes.grid.which\u001b[39m\u001b[38;5;124m'\u001b[39m],\n\u001b[1;32m   1252\u001b[0m           axis\u001b[38;5;241m=\u001b[39mmpl\u001b[38;5;241m.\u001b[39mrcParams[\u001b[38;5;124m'\u001b[39m\u001b[38;5;124maxes.grid.axis\u001b[39m\u001b[38;5;124m'\u001b[39m])\n\u001b[1;32m   1253\u001b[0m props \u001b[38;5;241m=\u001b[39m font_manager\u001b[38;5;241m.\u001b[39mFontProperties(\n\u001b[1;32m   1254\u001b[0m     size\u001b[38;5;241m=\u001b[39mmpl\u001b[38;5;241m.\u001b[39mrcParams[\u001b[38;5;124m'\u001b[39m\u001b[38;5;124maxes.titlesize\u001b[39m\u001b[38;5;124m'\u001b[39m],\n\u001b[1;32m   1255\u001b[0m     weight\u001b[38;5;241m=\u001b[39mmpl\u001b[38;5;241m.\u001b[39mrcParams[\u001b[38;5;124m'\u001b[39m\u001b[38;5;124maxes.titleweight\u001b[39m\u001b[38;5;124m'\u001b[39m])\n",
      "File \u001b[0;32m~/opt/anaconda3/envs/ubermag/lib/python3.9/site-packages/matplotlib/_api/deprecation.py:302\u001b[0m, in \u001b[0;36mrename_parameter.<locals>.wrapper\u001b[0;34m(*args, **kwargs)\u001b[0m\n\u001b[1;32m    297\u001b[0m     warn_deprecated(\n\u001b[1;32m    298\u001b[0m         since, message\u001b[38;5;241m=\u001b[39m\u001b[38;5;124mf\u001b[39m\u001b[38;5;124m\"\u001b[39m\u001b[38;5;124mThe \u001b[39m\u001b[38;5;132;01m{\u001b[39;00mold\u001b[38;5;132;01m!r}\u001b[39;00m\u001b[38;5;124m parameter of \u001b[39m\u001b[38;5;132;01m{\u001b[39;00mfunc\u001b[38;5;241m.\u001b[39m\u001b[38;5;18m__name__\u001b[39m\u001b[38;5;132;01m}\u001b[39;00m\u001b[38;5;124m() \u001b[39m\u001b[38;5;124m\"\u001b[39m\n\u001b[1;32m    299\u001b[0m         \u001b[38;5;124mf\u001b[39m\u001b[38;5;124m\"\u001b[39m\u001b[38;5;124mhas been renamed \u001b[39m\u001b[38;5;132;01m{\u001b[39;00mnew\u001b[38;5;132;01m!r}\u001b[39;00m\u001b[38;5;124m since Matplotlib \u001b[39m\u001b[38;5;132;01m{\u001b[39;00msince\u001b[38;5;132;01m}\u001b[39;00m\u001b[38;5;124m; support \u001b[39m\u001b[38;5;124m\"\u001b[39m\n\u001b[1;32m    300\u001b[0m         \u001b[38;5;124mf\u001b[39m\u001b[38;5;124m\"\u001b[39m\u001b[38;5;124mfor the old name will be dropped %(removal)s.\u001b[39m\u001b[38;5;124m\"\u001b[39m)\n\u001b[1;32m    301\u001b[0m     kwargs[new] \u001b[38;5;241m=\u001b[39m kwargs\u001b[38;5;241m.\u001b[39mpop(old)\n\u001b[0;32m--> 302\u001b[0m \u001b[38;5;28;01mreturn\u001b[39;00m \u001b[43mfunc\u001b[49m\u001b[43m(\u001b[49m\u001b[38;5;241;43m*\u001b[39;49m\u001b[43margs\u001b[49m\u001b[43m,\u001b[49m\u001b[43m \u001b[49m\u001b[38;5;241;43m*\u001b[39;49m\u001b[38;5;241;43m*\u001b[39;49m\u001b[43mkwargs\u001b[49m\u001b[43m)\u001b[49m\n",
      "File \u001b[0;32m~/opt/anaconda3/envs/ubermag/lib/python3.9/site-packages/matplotlib/axes/_base.py:3237\u001b[0m, in \u001b[0;36m_AxesBase.grid\u001b[0;34m(self, visible, which, axis, **kwargs)\u001b[0m\n\u001b[1;32m   3235\u001b[0m     \u001b[38;5;28mself\u001b[39m\u001b[38;5;241m.\u001b[39mxaxis\u001b[38;5;241m.\u001b[39mgrid(visible, which\u001b[38;5;241m=\u001b[39mwhich, \u001b[38;5;241m*\u001b[39m\u001b[38;5;241m*\u001b[39mkwargs)\n\u001b[1;32m   3236\u001b[0m \u001b[38;5;28;01mif\u001b[39;00m axis \u001b[38;5;129;01min\u001b[39;00m [\u001b[38;5;124m'\u001b[39m\u001b[38;5;124my\u001b[39m\u001b[38;5;124m'\u001b[39m, \u001b[38;5;124m'\u001b[39m\u001b[38;5;124mboth\u001b[39m\u001b[38;5;124m'\u001b[39m]:\n\u001b[0;32m-> 3237\u001b[0m     \u001b[38;5;28;43mself\u001b[39;49m\u001b[38;5;241;43m.\u001b[39;49m\u001b[43myaxis\u001b[49m\u001b[38;5;241;43m.\u001b[39;49m\u001b[43mgrid\u001b[49m\u001b[43m(\u001b[49m\u001b[43mvisible\u001b[49m\u001b[43m,\u001b[49m\u001b[43m \u001b[49m\u001b[43mwhich\u001b[49m\u001b[38;5;241;43m=\u001b[39;49m\u001b[43mwhich\u001b[49m\u001b[43m,\u001b[49m\u001b[43m \u001b[49m\u001b[38;5;241;43m*\u001b[39;49m\u001b[38;5;241;43m*\u001b[39;49m\u001b[43mkwargs\u001b[49m\u001b[43m)\u001b[49m\n",
      "File \u001b[0;32m~/opt/anaconda3/envs/ubermag/lib/python3.9/site-packages/matplotlib/_api/deprecation.py:302\u001b[0m, in \u001b[0;36mrename_parameter.<locals>.wrapper\u001b[0;34m(*args, **kwargs)\u001b[0m\n\u001b[1;32m    297\u001b[0m     warn_deprecated(\n\u001b[1;32m    298\u001b[0m         since, message\u001b[38;5;241m=\u001b[39m\u001b[38;5;124mf\u001b[39m\u001b[38;5;124m\"\u001b[39m\u001b[38;5;124mThe \u001b[39m\u001b[38;5;132;01m{\u001b[39;00mold\u001b[38;5;132;01m!r}\u001b[39;00m\u001b[38;5;124m parameter of \u001b[39m\u001b[38;5;132;01m{\u001b[39;00mfunc\u001b[38;5;241m.\u001b[39m\u001b[38;5;18m__name__\u001b[39m\u001b[38;5;132;01m}\u001b[39;00m\u001b[38;5;124m() \u001b[39m\u001b[38;5;124m\"\u001b[39m\n\u001b[1;32m    299\u001b[0m         \u001b[38;5;124mf\u001b[39m\u001b[38;5;124m\"\u001b[39m\u001b[38;5;124mhas been renamed \u001b[39m\u001b[38;5;132;01m{\u001b[39;00mnew\u001b[38;5;132;01m!r}\u001b[39;00m\u001b[38;5;124m since Matplotlib \u001b[39m\u001b[38;5;132;01m{\u001b[39;00msince\u001b[38;5;132;01m}\u001b[39;00m\u001b[38;5;124m; support \u001b[39m\u001b[38;5;124m\"\u001b[39m\n\u001b[1;32m    300\u001b[0m         \u001b[38;5;124mf\u001b[39m\u001b[38;5;124m\"\u001b[39m\u001b[38;5;124mfor the old name will be dropped %(removal)s.\u001b[39m\u001b[38;5;124m\"\u001b[39m)\n\u001b[1;32m    301\u001b[0m     kwargs[new] \u001b[38;5;241m=\u001b[39m kwargs\u001b[38;5;241m.\u001b[39mpop(old)\n\u001b[0;32m--> 302\u001b[0m \u001b[38;5;28;01mreturn\u001b[39;00m \u001b[43mfunc\u001b[49m\u001b[43m(\u001b[49m\u001b[38;5;241;43m*\u001b[39;49m\u001b[43margs\u001b[49m\u001b[43m,\u001b[49m\u001b[43m \u001b[49m\u001b[38;5;241;43m*\u001b[39;49m\u001b[38;5;241;43m*\u001b[39;49m\u001b[43mkwargs\u001b[49m\u001b[43m)\u001b[49m\n",
      "File \u001b[0;32m~/opt/anaconda3/envs/ubermag/lib/python3.9/site-packages/matplotlib/axis.py:1434\u001b[0m, in \u001b[0;36mAxis.grid\u001b[0;34m(self, visible, which, **kwargs)\u001b[0m\n\u001b[1;32m   1431\u001b[0m \u001b[38;5;28;01mif\u001b[39;00m which \u001b[38;5;129;01min\u001b[39;00m [\u001b[38;5;124m'\u001b[39m\u001b[38;5;124mmajor\u001b[39m\u001b[38;5;124m'\u001b[39m, \u001b[38;5;124m'\u001b[39m\u001b[38;5;124mboth\u001b[39m\u001b[38;5;124m'\u001b[39m]:\n\u001b[1;32m   1432\u001b[0m     gridkw[\u001b[38;5;124m'\u001b[39m\u001b[38;5;124mgridOn\u001b[39m\u001b[38;5;124m'\u001b[39m] \u001b[38;5;241m=\u001b[39m (\u001b[38;5;129;01mnot\u001b[39;00m \u001b[38;5;28mself\u001b[39m\u001b[38;5;241m.\u001b[39m_major_tick_kw[\u001b[38;5;124m'\u001b[39m\u001b[38;5;124mgridOn\u001b[39m\u001b[38;5;124m'\u001b[39m]\n\u001b[1;32m   1433\u001b[0m                         \u001b[38;5;28;01mif\u001b[39;00m visible \u001b[38;5;129;01mis\u001b[39;00m \u001b[38;5;28;01mNone\u001b[39;00m \u001b[38;5;28;01melse\u001b[39;00m visible)\n\u001b[0;32m-> 1434\u001b[0m     \u001b[38;5;28;43mself\u001b[39;49m\u001b[38;5;241;43m.\u001b[39;49m\u001b[43mset_tick_params\u001b[49m\u001b[43m(\u001b[49m\u001b[43mwhich\u001b[49m\u001b[38;5;241;43m=\u001b[39;49m\u001b[38;5;124;43m'\u001b[39;49m\u001b[38;5;124;43mmajor\u001b[39;49m\u001b[38;5;124;43m'\u001b[39;49m\u001b[43m,\u001b[49m\u001b[43m \u001b[49m\u001b[38;5;241;43m*\u001b[39;49m\u001b[38;5;241;43m*\u001b[39;49m\u001b[43mgridkw\u001b[49m\u001b[43m)\u001b[49m\n\u001b[1;32m   1435\u001b[0m \u001b[38;5;28mself\u001b[39m\u001b[38;5;241m.\u001b[39mstale \u001b[38;5;241m=\u001b[39m \u001b[38;5;28;01mTrue\u001b[39;00m\n",
      "File \u001b[0;32m~/opt/anaconda3/envs/ubermag/lib/python3.9/site-packages/matplotlib/axis.py:873\u001b[0m, in \u001b[0;36mAxis.set_tick_params\u001b[0;34m(self, which, reset, **kw)\u001b[0m\n\u001b[1;32m    871\u001b[0m \u001b[38;5;28;01mif\u001b[39;00m which \u001b[38;5;129;01min\u001b[39;00m [\u001b[38;5;124m'\u001b[39m\u001b[38;5;124mmajor\u001b[39m\u001b[38;5;124m'\u001b[39m, \u001b[38;5;124m'\u001b[39m\u001b[38;5;124mboth\u001b[39m\u001b[38;5;124m'\u001b[39m]:\n\u001b[1;32m    872\u001b[0m     \u001b[38;5;28mself\u001b[39m\u001b[38;5;241m.\u001b[39m_major_tick_kw\u001b[38;5;241m.\u001b[39mupdate(kwtrans)\n\u001b[0;32m--> 873\u001b[0m     \u001b[38;5;28;01mfor\u001b[39;00m tick \u001b[38;5;129;01min\u001b[39;00m \u001b[38;5;28;43mself\u001b[39;49m\u001b[38;5;241;43m.\u001b[39;49m\u001b[43mmajorTicks\u001b[49m:\n\u001b[1;32m    874\u001b[0m         tick\u001b[38;5;241m.\u001b[39m_apply_params(\u001b[38;5;241m*\u001b[39m\u001b[38;5;241m*\u001b[39mkwtrans)\n\u001b[1;32m    875\u001b[0m \u001b[38;5;28;01mif\u001b[39;00m which \u001b[38;5;129;01min\u001b[39;00m [\u001b[38;5;124m'\u001b[39m\u001b[38;5;124mminor\u001b[39m\u001b[38;5;124m'\u001b[39m, \u001b[38;5;124m'\u001b[39m\u001b[38;5;124mboth\u001b[39m\u001b[38;5;124m'\u001b[39m]:\n",
      "File \u001b[0;32m~/opt/anaconda3/envs/ubermag/lib/python3.9/site-packages/matplotlib/axis.py:593\u001b[0m, in \u001b[0;36m_LazyTickList.__get__\u001b[0;34m(self, instance, cls)\u001b[0m\n\u001b[1;32m    591\u001b[0m     instance\u001b[38;5;241m.\u001b[39mmajorTicks \u001b[38;5;241m=\u001b[39m []\n\u001b[1;32m    592\u001b[0m     tick \u001b[38;5;241m=\u001b[39m instance\u001b[38;5;241m.\u001b[39m_get_tick(major\u001b[38;5;241m=\u001b[39m\u001b[38;5;28;01mTrue\u001b[39;00m)\n\u001b[0;32m--> 593\u001b[0m     \u001b[43minstance\u001b[49m\u001b[38;5;241;43m.\u001b[39;49m\u001b[43mmajorTicks\u001b[49m\u001b[38;5;241m.\u001b[39mappend(tick)\n\u001b[1;32m    594\u001b[0m     \u001b[38;5;28;01mreturn\u001b[39;00m instance\u001b[38;5;241m.\u001b[39mmajorTicks\n\u001b[1;32m    595\u001b[0m \u001b[38;5;28;01melse\u001b[39;00m:\n",
      "File \u001b[0;32m~/opt/anaconda3/envs/ubermag/lib/python3.9/site-packages/matplotlib/axis.py:592\u001b[0m, in \u001b[0;36m_LazyTickList.__get__\u001b[0;34m(self, instance, cls)\u001b[0m\n\u001b[1;32m    590\u001b[0m \u001b[38;5;28;01mif\u001b[39;00m \u001b[38;5;28mself\u001b[39m\u001b[38;5;241m.\u001b[39m_major:\n\u001b[1;32m    591\u001b[0m     instance\u001b[38;5;241m.\u001b[39mmajorTicks \u001b[38;5;241m=\u001b[39m []\n\u001b[0;32m--> 592\u001b[0m     tick \u001b[38;5;241m=\u001b[39m \u001b[43minstance\u001b[49m\u001b[38;5;241;43m.\u001b[39;49m\u001b[43m_get_tick\u001b[49m\u001b[43m(\u001b[49m\u001b[43mmajor\u001b[49m\u001b[38;5;241;43m=\u001b[39;49m\u001b[38;5;28;43;01mTrue\u001b[39;49;00m\u001b[43m)\u001b[49m\n\u001b[1;32m    593\u001b[0m     instance\u001b[38;5;241m.\u001b[39mmajorTicks\u001b[38;5;241m.\u001b[39mappend(tick)\n\u001b[1;32m    594\u001b[0m     \u001b[38;5;28;01mreturn\u001b[39;00m instance\u001b[38;5;241m.\u001b[39mmajorTicks\n",
      "File \u001b[0;32m~/opt/anaconda3/envs/ubermag/lib/python3.9/site-packages/matplotlib/axis.py:2322\u001b[0m, in \u001b[0;36mYAxis._get_tick\u001b[0;34m(self, major)\u001b[0m\n\u001b[1;32m   2320\u001b[0m \u001b[38;5;28;01melse\u001b[39;00m:\n\u001b[1;32m   2321\u001b[0m     tick_kw \u001b[38;5;241m=\u001b[39m \u001b[38;5;28mself\u001b[39m\u001b[38;5;241m.\u001b[39m_minor_tick_kw\n\u001b[0;32m-> 2322\u001b[0m \u001b[38;5;28;01mreturn\u001b[39;00m \u001b[43mYTick\u001b[49m\u001b[43m(\u001b[49m\u001b[38;5;28;43mself\u001b[39;49m\u001b[38;5;241;43m.\u001b[39;49m\u001b[43maxes\u001b[49m\u001b[43m,\u001b[49m\u001b[43m \u001b[49m\u001b[38;5;241;43m0\u001b[39;49m\u001b[43m,\u001b[49m\u001b[43m \u001b[49m\u001b[43mmajor\u001b[49m\u001b[38;5;241;43m=\u001b[39;49m\u001b[43mmajor\u001b[49m\u001b[43m,\u001b[49m\u001b[43m \u001b[49m\u001b[38;5;241;43m*\u001b[39;49m\u001b[38;5;241;43m*\u001b[39;49m\u001b[43mtick_kw\u001b[49m\u001b[43m)\u001b[49m\n",
      "File \u001b[0;32m~/opt/anaconda3/envs/ubermag/lib/python3.9/site-packages/matplotlib/axis.py:491\u001b[0m, in \u001b[0;36mYTick.__init__\u001b[0;34m(self, *args, **kwargs)\u001b[0m\n\u001b[1;32m    486\u001b[0m trans, va, ha \u001b[38;5;241m=\u001b[39m \u001b[38;5;28mself\u001b[39m\u001b[38;5;241m.\u001b[39m_get_text1_transform()\n\u001b[1;32m    487\u001b[0m \u001b[38;5;28mself\u001b[39m\u001b[38;5;241m.\u001b[39mlabel1\u001b[38;5;241m.\u001b[39mset(\n\u001b[1;32m    488\u001b[0m     x\u001b[38;5;241m=\u001b[39m\u001b[38;5;241m0\u001b[39m, y\u001b[38;5;241m=\u001b[39m\u001b[38;5;241m0\u001b[39m,\n\u001b[1;32m    489\u001b[0m     verticalalignment\u001b[38;5;241m=\u001b[39mva, horizontalalignment\u001b[38;5;241m=\u001b[39mha, transform\u001b[38;5;241m=\u001b[39mtrans,\n\u001b[1;32m    490\u001b[0m )\n\u001b[0;32m--> 491\u001b[0m trans, va, ha \u001b[38;5;241m=\u001b[39m \u001b[38;5;28;43mself\u001b[39;49m\u001b[38;5;241;43m.\u001b[39;49m\u001b[43m_get_text2_transform\u001b[49m\u001b[43m(\u001b[49m\u001b[43m)\u001b[49m\n\u001b[1;32m    492\u001b[0m \u001b[38;5;28mself\u001b[39m\u001b[38;5;241m.\u001b[39mlabel2\u001b[38;5;241m.\u001b[39mset(\n\u001b[1;32m    493\u001b[0m     x\u001b[38;5;241m=\u001b[39m\u001b[38;5;241m1\u001b[39m, y\u001b[38;5;241m=\u001b[39m\u001b[38;5;241m0\u001b[39m,\n\u001b[1;32m    494\u001b[0m     verticalalignment\u001b[38;5;241m=\u001b[39mva, horizontalalignment\u001b[38;5;241m=\u001b[39mha, transform\u001b[38;5;241m=\u001b[39mtrans,\n\u001b[1;32m    495\u001b[0m )\n",
      "File \u001b[0;32m~/opt/anaconda3/envs/ubermag/lib/python3.9/site-packages/matplotlib/axis.py:501\u001b[0m, in \u001b[0;36mYTick._get_text2_transform\u001b[0;34m(self)\u001b[0m\n\u001b[1;32m    500\u001b[0m \u001b[38;5;28;01mdef\u001b[39;00m \u001b[38;5;21m_get_text2_transform\u001b[39m(\u001b[38;5;28mself\u001b[39m):\n\u001b[0;32m--> 501\u001b[0m     \u001b[38;5;28;01mreturn\u001b[39;00m \u001b[38;5;28;43mself\u001b[39;49m\u001b[38;5;241;43m.\u001b[39;49m\u001b[43maxes\u001b[49m\u001b[38;5;241;43m.\u001b[39;49m\u001b[43mget_yaxis_text2_transform\u001b[49m\u001b[43m(\u001b[49m\u001b[38;5;28;43mself\u001b[39;49m\u001b[38;5;241;43m.\u001b[39;49m\u001b[43m_pad\u001b[49m\u001b[43m)\u001b[49m\n",
      "File \u001b[0;32m~/opt/anaconda3/envs/ubermag/lib/python3.9/site-packages/matplotlib/axes/_base.py:987\u001b[0m, in \u001b[0;36m_AxesBase.get_yaxis_text2_transform\u001b[0;34m(self, pad_points)\u001b[0m\n\u001b[1;32m    967\u001b[0m \u001b[38;5;124;03m\"\"\"\u001b[39;00m\n\u001b[1;32m    968\u001b[0m \u001b[38;5;124;03mReturns\u001b[39;00m\n\u001b[1;32m    969\u001b[0m \u001b[38;5;124;03m-------\u001b[39;00m\n\u001b[0;32m   (...)\u001b[0m\n\u001b[1;32m    984\u001b[0m \u001b[38;5;124;03mmay need to place axis elements in different locations.\u001b[39;00m\n\u001b[1;32m    985\u001b[0m \u001b[38;5;124;03m\"\"\"\u001b[39;00m\n\u001b[1;32m    986\u001b[0m labels_align \u001b[38;5;241m=\u001b[39m mpl\u001b[38;5;241m.\u001b[39mrcParams[\u001b[38;5;124m\"\u001b[39m\u001b[38;5;124mytick.alignment\u001b[39m\u001b[38;5;124m\"\u001b[39m]\n\u001b[0;32m--> 987\u001b[0m \u001b[38;5;28;01mreturn\u001b[39;00m (\u001b[38;5;28;43mself\u001b[39;49m\u001b[38;5;241;43m.\u001b[39;49m\u001b[43mget_yaxis_transform\u001b[49m\u001b[43m(\u001b[49m\u001b[43mwhich\u001b[49m\u001b[38;5;241;43m=\u001b[39;49m\u001b[38;5;124;43m'\u001b[39;49m\u001b[38;5;124;43mtick2\u001b[39;49m\u001b[38;5;124;43m'\u001b[39;49m\u001b[43m)\u001b[49m\u001b[43m \u001b[49m\u001b[38;5;241;43m+\u001b[39;49m\n\u001b[1;32m    988\u001b[0m \u001b[43m        \u001b[49m\u001b[43mmtransforms\u001b[49m\u001b[38;5;241;43m.\u001b[39;49m\u001b[43mScaledTranslation\u001b[49m\u001b[43m(\u001b[49m\u001b[43mpad_points\u001b[49m\u001b[43m \u001b[49m\u001b[38;5;241;43m/\u001b[39;49m\u001b[43m \u001b[49m\u001b[38;5;241;43m72\u001b[39;49m\u001b[43m,\u001b[49m\u001b[43m \u001b[49m\u001b[38;5;241;43m0\u001b[39;49m\u001b[43m,\u001b[49m\n\u001b[1;32m    989\u001b[0m \u001b[43m                                      \u001b[49m\u001b[38;5;28;43mself\u001b[39;49m\u001b[38;5;241;43m.\u001b[39;49m\u001b[43mfigure\u001b[49m\u001b[38;5;241;43m.\u001b[39;49m\u001b[43mdpi_scale_trans\u001b[49m\u001b[43m)\u001b[49m,\n\u001b[1;32m    990\u001b[0m         labels_align, \u001b[38;5;124m\"\u001b[39m\u001b[38;5;124mleft\u001b[39m\u001b[38;5;124m\"\u001b[39m)\n",
      "File \u001b[0;32m~/opt/anaconda3/envs/ubermag/lib/python3.9/site-packages/matplotlib/transforms.py:1355\u001b[0m, in \u001b[0;36mTransform.__add__\u001b[0;34m(self, other)\u001b[0m\n\u001b[1;32m   1348\u001b[0m \u001b[38;5;28;01mdef\u001b[39;00m \u001b[38;5;21m__add__\u001b[39m(\u001b[38;5;28mself\u001b[39m, other):\n\u001b[1;32m   1349\u001b[0m     \u001b[38;5;124;03m\"\"\"\u001b[39;00m\n\u001b[1;32m   1350\u001b[0m \u001b[38;5;124;03m    Compose two transforms together so that *self* is followed by *other*.\u001b[39;00m\n\u001b[1;32m   1351\u001b[0m \n\u001b[1;32m   1352\u001b[0m \u001b[38;5;124;03m    ``A + B`` returns a transform ``C`` so that\u001b[39;00m\n\u001b[1;32m   1353\u001b[0m \u001b[38;5;124;03m    ``C.transform(x) == B.transform(A.transform(x))``.\u001b[39;00m\n\u001b[1;32m   1354\u001b[0m \u001b[38;5;124;03m    \"\"\"\u001b[39;00m\n\u001b[0;32m-> 1355\u001b[0m     \u001b[38;5;28;01mreturn\u001b[39;00m (\u001b[43mcomposite_transform_factory\u001b[49m\u001b[43m(\u001b[49m\u001b[38;5;28;43mself\u001b[39;49m\u001b[43m,\u001b[49m\u001b[43m \u001b[49m\u001b[43mother\u001b[49m\u001b[43m)\u001b[49m\n\u001b[1;32m   1356\u001b[0m             \u001b[38;5;28;01mif\u001b[39;00m \u001b[38;5;28misinstance\u001b[39m(other, Transform) \u001b[38;5;28;01melse\u001b[39;00m\n\u001b[1;32m   1357\u001b[0m             \u001b[38;5;28mNotImplemented\u001b[39m)\n",
      "File \u001b[0;32m~/opt/anaconda3/envs/ubermag/lib/python3.9/site-packages/matplotlib/transforms.py:2532\u001b[0m, in \u001b[0;36mcomposite_transform_factory\u001b[0;34m(a, b)\u001b[0m\n\u001b[1;32m   2530\u001b[0m \u001b[38;5;28;01melif\u001b[39;00m \u001b[38;5;28misinstance\u001b[39m(a, Affine2D) \u001b[38;5;129;01mand\u001b[39;00m \u001b[38;5;28misinstance\u001b[39m(b, Affine2D):\n\u001b[1;32m   2531\u001b[0m     \u001b[38;5;28;01mreturn\u001b[39;00m CompositeAffine2D(a, b)\n\u001b[0;32m-> 2532\u001b[0m \u001b[38;5;28;01mreturn\u001b[39;00m \u001b[43mCompositeGenericTransform\u001b[49m\u001b[43m(\u001b[49m\u001b[43ma\u001b[49m\u001b[43m,\u001b[49m\u001b[43m \u001b[49m\u001b[43mb\u001b[49m\u001b[43m)\u001b[49m\n",
      "File \u001b[0;32m~/opt/anaconda3/envs/ubermag/lib/python3.9/site-packages/matplotlib/transforms.py:2369\u001b[0m, in \u001b[0;36mCompositeGenericTransform.__init__\u001b[0;34m(self, a, b, **kwargs)\u001b[0m\n\u001b[1;32m   2367\u001b[0m \u001b[38;5;28mself\u001b[39m\u001b[38;5;241m.\u001b[39m_a \u001b[38;5;241m=\u001b[39m a\n\u001b[1;32m   2368\u001b[0m \u001b[38;5;28mself\u001b[39m\u001b[38;5;241m.\u001b[39m_b \u001b[38;5;241m=\u001b[39m b\n\u001b[0;32m-> 2369\u001b[0m \u001b[38;5;28;43mself\u001b[39;49m\u001b[38;5;241;43m.\u001b[39;49m\u001b[43mset_children\u001b[49m\u001b[43m(\u001b[49m\u001b[43ma\u001b[49m\u001b[43m,\u001b[49m\u001b[43m \u001b[49m\u001b[43mb\u001b[49m\u001b[43m)\u001b[49m\n",
      "File \u001b[0;32m~/opt/anaconda3/envs/ubermag/lib/python3.9/site-packages/matplotlib/transforms.py:221\u001b[0m, in \u001b[0;36mTransformNode.set_children\u001b[0;34m(self, *children)\u001b[0m\n\u001b[1;32m    214\u001b[0m \u001b[38;5;66;03m# Parents are stored as weak references, so that if the\u001b[39;00m\n\u001b[1;32m    215\u001b[0m \u001b[38;5;66;03m# parents are destroyed, references from the children won't\u001b[39;00m\n\u001b[1;32m    216\u001b[0m \u001b[38;5;66;03m# keep them alive.\u001b[39;00m\n\u001b[1;32m    217\u001b[0m \u001b[38;5;28;01mfor\u001b[39;00m child \u001b[38;5;129;01min\u001b[39;00m children:\n\u001b[1;32m    218\u001b[0m     \u001b[38;5;66;03m# Use weak references so this dictionary won't keep obsolete nodes\u001b[39;00m\n\u001b[1;32m    219\u001b[0m     \u001b[38;5;66;03m# alive; the callback deletes the dictionary entry. This is a\u001b[39;00m\n\u001b[1;32m    220\u001b[0m     \u001b[38;5;66;03m# performance improvement over using WeakValueDictionary.\u001b[39;00m\n\u001b[0;32m--> 221\u001b[0m     ref \u001b[38;5;241m=\u001b[39m \u001b[43mweakref\u001b[49m\u001b[38;5;241;43m.\u001b[39;49m\u001b[43mref\u001b[49m\u001b[43m(\u001b[49m\n\u001b[1;32m    222\u001b[0m \u001b[43m        \u001b[49m\u001b[38;5;28;43mself\u001b[39;49m\u001b[43m,\u001b[49m\u001b[43m \u001b[49m\u001b[38;5;28;43;01mlambda\u001b[39;49;00m\u001b[43m \u001b[49m\u001b[43m_\u001b[49m\u001b[43m,\u001b[49m\u001b[43m \u001b[49m\u001b[43mpop\u001b[49m\u001b[38;5;241;43m=\u001b[39;49m\u001b[43mchild\u001b[49m\u001b[38;5;241;43m.\u001b[39;49m\u001b[43m_parents\u001b[49m\u001b[38;5;241;43m.\u001b[39;49m\u001b[43mpop\u001b[49m\u001b[43m,\u001b[49m\u001b[43m \u001b[49m\u001b[43mk\u001b[49m\u001b[38;5;241;43m=\u001b[39;49m\u001b[38;5;28;43mid\u001b[39;49m\u001b[43m(\u001b[49m\u001b[38;5;28;43mself\u001b[39;49m\u001b[43m)\u001b[49m\u001b[43m:\u001b[49m\u001b[43m \u001b[49m\u001b[43mpop\u001b[49m\u001b[43m(\u001b[49m\u001b[43mk\u001b[49m\u001b[43m)\u001b[49m\u001b[43m)\u001b[49m\n\u001b[1;32m    223\u001b[0m     child\u001b[38;5;241m.\u001b[39m_parents[\u001b[38;5;28mid\u001b[39m(\u001b[38;5;28mself\u001b[39m)] \u001b[38;5;241m=\u001b[39m ref\n",
      "\u001b[0;31mKeyboardInterrupt\u001b[0m: "
     ]
    },
    {
     "data": {
      "text/plain": [
       "<Figure size 1000x800 with 0 Axes>"
      ]
     },
     "metadata": {},
     "output_type": "display_data"
    }
   ],
   "source": [
    "spin_dir = \"spin\"+DIR\n",
    "\n",
    "path1 = os.path.join(LOCATION,spin_dir)\n",
    "\n",
    "# Trying to create a location+dir directory.\n",
    "try: \n",
    "    os.mkdir(path1) \n",
    "except OSError as error: \n",
    "    print(error)  \n",
    "    \n",
    "\n",
    "\n",
    "\n",
    "data = md.Data(name=DIR)\n",
    "combined =  data[0] << data[1] << data[2]\n",
    "for i in range(210):\n",
    "    i = i*10\n",
    "    fig = plt.figure(figsize=(10,8))\n",
    "    ax = fig.add_subplot(1,1,1)\n",
    "    combined[i].z.plane('z').mpl.scalar(ax=ax,cmap='bwr', clim=(-1e6, 1e6))\n",
    "    combined[i].plane('z',n=(10,10)).mpl.vector(ax=ax,color_field=combined[i].z,colorbar=False, colorbar_label='vector', cmap='pink',clim=(-1e6,1e6))\n",
    "    plt.tight_layout()\n",
    "    filename ='_{:04d}.jpg'.format(i)\n",
    "    plt.savefig(path1 + filename)\n",
    "    plt.close()\n",
    "    \n"
   ]
  },
  {
   "cell_type": "code",
   "execution_count": 21,
   "id": "e8614ae0",
   "metadata": {},
   "outputs": [],
   "source": [
    "\n",
    "location = \"/Users/yejinhong/ubermag-test\"\n",
    "dir = \"pulse10ns_rise_time_Jc3p2e12\"\n",
    "path = os.path.join(location,dir)\n",
    "\n",
    "import imageio\n",
    "data = md.Data(name=dir)\n",
    "combined =  data[0] << data[1] << data[2]\n",
    "for i in range(210):\n",
    "    i = i*10\n",
    "    fig = plt.figure(figsize=(10,8))\n",
    "    ax = fig.add_subplot(1,1,1)\n",
    "    combined[i].z.plane('z').mpl.scalar(ax=ax,cmap='bwr', clim=(-1e6, 1e6))\n",
    "    combined[i].plane('z',n=(10,10)).mpl.vector(ax=ax,color_field=combined[i].z,colorbar=False, colorbar_label='vector', cmap='pink',clim=(-1e6,1e6))\n",
    "    plt.tight_layout()\n",
    "    #dir1 = \"spin_10ns_test2\"\n",
    "    #path1 = os.path.join(location,dir1)\n",
    "    plt.savefig('spin_pulse10ns_rise_time_Jc3p2e12/{:04d}.jpg'.format(i),dpi=90)\n",
    "    plt.close()"
   ]
  },
  {
   "cell_type": "markdown",
   "id": "844a774a",
   "metadata": {},
   "source": [
    "# Mayavi"
   ]
  },
  {
   "cell_type": "code",
   "execution_count": 6,
   "id": "91141b37",
   "metadata": {},
   "outputs": [
    {
     "ename": "AssertionError",
     "evalue": "Backend must be one of dict_keys(['itk', 'ipy', 'x3d', 'png']), got _10ns_test1-Oxs_TimeDriver-Magnetization-0000000-0000079.vtk",
     "output_type": "error",
     "traceback": [
      "\u001b[0;31m---------------------------------------------------------------------------\u001b[0m",
      "\u001b[0;31mAssertionError\u001b[0m                            Traceback (most recent call last)",
      "Cell \u001b[0;32mIn [6], line 3\u001b[0m\n\u001b[1;32m      1\u001b[0m \u001b[38;5;28;01mimport\u001b[39;00m \u001b[38;5;21;01mmayavi\u001b[39;00m\n\u001b[1;32m      2\u001b[0m \u001b[38;5;28;01mfrom\u001b[39;00m \u001b[38;5;21;01mmayavi\u001b[39;00m \u001b[38;5;28;01mimport\u001b[39;00m mlab\n\u001b[0;32m----> 3\u001b[0m \u001b[43mmlab\u001b[49m\u001b[38;5;241;43m.\u001b[39;49m\u001b[43minit_notebook\u001b[49m\u001b[43m(\u001b[49m\u001b[38;5;124;43m'\u001b[39;49m\u001b[38;5;124;43m_10ns_test1-Oxs_TimeDriver-Magnetization-0000000-0000079.vtk\u001b[39;49m\u001b[38;5;124;43m'\u001b[39;49m\u001b[43m)\u001b[49m\n",
      "File \u001b[0;32m~/opt/anaconda3/envs/ubermag/lib/python3.9/site-packages/mayavi/tools/notebook.py:50\u001b[0m, in \u001b[0;36minit\u001b[0;34m(backend, width, height, local)\u001b[0m\n\u001b[1;32m     48\u001b[0m backends \u001b[38;5;241m=\u001b[39m _registry\u001b[38;5;241m.\u001b[39mkeys()\n\u001b[1;32m     49\u001b[0m error_msg \u001b[38;5;241m=\u001b[39m \u001b[38;5;124m\"\u001b[39m\u001b[38;5;124mBackend must be one of \u001b[39m\u001b[38;5;132;01m%r\u001b[39;00m\u001b[38;5;124m, got \u001b[39m\u001b[38;5;132;01m%s\u001b[39;00m\u001b[38;5;124m\"\u001b[39m \u001b[38;5;241m%\u001b[39m (backends, backend)\n\u001b[0;32m---> 50\u001b[0m \u001b[38;5;28;01massert\u001b[39;00m backend \u001b[38;5;129;01min\u001b[39;00m backends, error_msg\n\u001b[1;32m     51\u001b[0m \u001b[38;5;28;01mfrom\u001b[39;00m \u001b[38;5;21;01mmayavi\u001b[39;00m \u001b[38;5;28;01mimport\u001b[39;00m mlab\n\u001b[1;32m     52\u001b[0m mlab\u001b[38;5;241m.\u001b[39moptions\u001b[38;5;241m.\u001b[39moffscreen \u001b[38;5;241m=\u001b[39m \u001b[38;5;28;01mTrue\u001b[39;00m\n",
      "\u001b[0;31mAssertionError\u001b[0m: Backend must be one of dict_keys(['itk', 'ipy', 'x3d', 'png']), got _10ns_test1-Oxs_TimeDriver-Magnetization-0000000-0000079.vtk"
     ]
    }
   ],
   "source": [
    "import mayavi\n",
    "from mayavi import mlab\n",
    "mlab.init_notebook('_10ns_test1-Oxs_TimeDriver-Magnetization-0000000-0000079.vtk')\n",
    "v = mayavi()\n",
    "d = v.open_vtk('_10ns_test1-Oxs_TimeDriver-Magnetization-0000000-0000079.vtk',config=0)\n",
    "f = v.load_filter('WarpScalar', config=0)\n",
    "n = v.load_filter('PolyDataNormals', 0)\n",
    "n.fil.SetFeatureAngle (45)\n",
    "m = v.load_module('SurfaceMap', 0)\n",
    "a = v.load_module('Axes', 0)\n",
    "a.axes.SetCornerOffset(0.0)\n",
    "o = v.load_module('Outline', 0)\n",
    "v.Render()\n"
   ]
  },
  {
   "cell_type": "code",
   "execution_count": 37,
   "id": "c8ed270d",
   "metadata": {},
   "outputs": [
    {
     "ename": "AttributeError",
     "evalue": "Object has no attribute table.",
     "output_type": "error",
     "traceback": [
      "\u001b[0;31m---------------------------------------------------------------------------\u001b[0m",
      "\u001b[0;31mAttributeError\u001b[0m                            Traceback (most recent call last)",
      "Cell \u001b[0;32mIn [37], line 13\u001b[0m\n\u001b[1;32m     11\u001b[0m fig \u001b[38;5;241m=\u001b[39m plt\u001b[38;5;241m.\u001b[39mfigure(figsize\u001b[38;5;241m=\u001b[39m(\u001b[38;5;241m10\u001b[39m,\u001b[38;5;241m8\u001b[39m))\n\u001b[1;32m     12\u001b[0m ax \u001b[38;5;241m=\u001b[39m fig\u001b[38;5;241m.\u001b[39madd_subplot(\u001b[38;5;241m1\u001b[39m,\u001b[38;5;241m1\u001b[39m,\u001b[38;5;241m1\u001b[39m)\n\u001b[0;32m---> 13\u001b[0m x \u001b[38;5;241m=\u001b[39m \u001b[43mcombined\u001b[49m\u001b[43m[\u001b[49m\u001b[43mi\u001b[49m\u001b[43m]\u001b[49m\u001b[38;5;241;43m.\u001b[39;49m\u001b[43mtable\u001b[49m\u001b[38;5;241m.\u001b[39mdata[\u001b[38;5;124m'\u001b[39m\u001b[38;5;124mmx\u001b[39m\u001b[38;5;124m'\u001b[39m]\u001b[38;5;241m.\u001b[39mvalues\n\u001b[1;32m     14\u001b[0m y \u001b[38;5;241m=\u001b[39m combined[i]\u001b[38;5;241m.\u001b[39mtable\u001b[38;5;241m.\u001b[39mdata[\u001b[38;5;124m'\u001b[39m\u001b[38;5;124mmy\u001b[39m\u001b[38;5;124m'\u001b[39m]\u001b[38;5;241m.\u001b[39mvalues\n\u001b[1;32m     15\u001b[0m z \u001b[38;5;241m=\u001b[39m combined[i]\u001b[38;5;241m.\u001b[39mtable\u001b[38;5;241m.\u001b[39mdata[\u001b[38;5;124m'\u001b[39m\u001b[38;5;124mmz\u001b[39m\u001b[38;5;124m'\u001b[39m]\u001b[38;5;241m.\u001b[39mvalues\n",
      "File \u001b[0;32m~/opt/miniconda3/lib/python3.9/site-packages/discretisedfield/field.py:844\u001b[0m, in \u001b[0;36mField.__getattr__\u001b[0;34m(self, attr)\u001b[0m\n\u001b[1;32m    842\u001b[0m \u001b[38;5;28;01melse\u001b[39;00m:\n\u001b[1;32m    843\u001b[0m     msg \u001b[38;5;241m=\u001b[39m \u001b[38;5;124mf\u001b[39m\u001b[38;5;124m\"\u001b[39m\u001b[38;5;124mObject has no attribute \u001b[39m\u001b[38;5;132;01m{\u001b[39;00mattr\u001b[38;5;132;01m}\u001b[39;00m\u001b[38;5;124m.\u001b[39m\u001b[38;5;124m\"\u001b[39m\n\u001b[0;32m--> 844\u001b[0m     \u001b[38;5;28;01mraise\u001b[39;00m \u001b[38;5;167;01mAttributeError\u001b[39;00m(msg)\n",
      "\u001b[0;31mAttributeError\u001b[0m: Object has no attribute table."
     ]
    },
    {
     "data": {
      "image/png": "[encoded data removed]",
      "text/plain": [
       "<Figure size 1000x800 with 1 Axes>"
      ]
     },
     "metadata": {},
     "output_type": "display_data"
    }
   ],
   "source": [
    "location = \"/Users/yejinhong/ubermag-test\"\n",
    "dir = \"_10ns_test1\"\n",
    "path = os.path.join(location,dir)\n",
    "\n",
    "\n",
    "import imageio\n",
    "data = md.Data(name=dir)\n",
    "combined =  data[0] << data[1] << data[2]\n",
    "for i in range(210):\n",
    "    i = i*10\n",
    "    fig = plt.figure(figsize=(10,8))\n",
    "    ax = fig.add_subplot(1,1,1)\n",
    "    x = combined[i].table.data['mx'].values\n",
    "    y = combined[i].table.data['my'].values\n",
    "    z = combined[i].table.data['mz'].values\n",
    "    mlab.quiver3d(x,y,z)\n",
    "    #combined[i].z.plane('z').mpl.scalar(ax=ax,cmap='bwr', clim=(-1e6, 1e6))\n",
    "    #combined[i].plane('z',n=(10,10)).mpl.vector(ax=ax,color_field=combined[i].z,colorbar=False, colorbar_label='vector', cmap='pink',clim=(-1e6,1e6))\n",
    "    plt.tight_layout()\n",
    "    #dir1 = \"spin_10ns_test2\"\n",
    "    #path1 = os.path.join(location,dir1)\n",
    "    plt.savefig('spin_10ns_test1_mayavi/{:04d}.jpg'.format(i),dpi=90)\n",
    "    plt.close()   \n",
    "    \n",
    "    \n",
    "    \n",
    "    \n",
    "#>>> import mayavi\n",
    "#>>> v = mayavi.mayavi() # create a MayaVi window.\n",
    "#>>> d = v.open_vtk('/tmp/test.vtk', config=0) # open the data file.\n",
    "#>>> # The config option turns on/off showing a GUI control for the data/filter/module.\n",
    "#>>> # load the filters.\n",
    "#>>> f = v.load_filter('WarpScalar', config=0) \n",
    "#>>> n = v.load_filter('PolyDataNormals', 0)\n",
    "#>>> n.fil.SetFeatureAngle (45) # configure the normals.\n",
    "#>>> # Load the necessary modules.\n",
    "#>>> m = v.load_module('SurfaceMap', 0)\n",
    "#>>> a = v.load_module('Axes', 0)\n",
    "#>>> a.axes.SetCornerOffset(0.0) # configure the axes module.\n",
    "#>>> o = v.load_module('Outline', 0)\n",
    "#>>> v.Render() # Re-render the scene."
   ]
  },
  {
   "cell_type": "code",
   "execution_count": null,
   "id": "6ecf89ef",
   "metadata": {},
   "outputs": [],
   "source": [
    "data = md.Data(name=system.name)\n",
    "drive45 = data[3]\n",
    "drive46 = data[4]\n",
    "drive47 = data[5]\n",
    "combined =  data[3] << data[4] << data[5]\n",
    "\n",
    "\n",
    "fig = plt.figure(figsize=(10,8))\n",
    "ax = fig.add_subplot(1,1,1)\n",
    "combined.table.mpl(ax=ax,x=\"t\", y=[\"mz\"], color='b',linewidth= 4,alpha=0.6,)\n",
    "ax.grid('on',color='k', linewidth=1,alpha=0.2)\n",
    "ax.set_ylim(-1,1)\n",
    "ax.set_xlim(0.8,30)\n",
    "plt.tight_layout()\n",
    "#plt.savefig(path+'Co70Gd30_CoPt_in_ex_'+str('%.2e' % ((in_ex_1+j*dex)*100))+'_power_'+str('%.2e' % ((Ain+i*dA)*1.2))+'_Koopmans_100fs.jpg', dpi=300)\n",
    "\n",
    "\n",
    "#plt.savefig(path+\".jpg\".format(i=i*1e12),dpi=90)"
   ]
  },
  {
   "cell_type": "markdown",
   "id": "4aac17ec",
   "metadata": {},
   "source": [
    "## Visulization"
   ]
  },
  {
   "cell_type": "code",
   "execution_count": null,
   "id": "1561600c",
   "metadata": {},
   "outputs": [],
   "source": [
    "#path = '/Users/SimulationComputer/Documents/Yoselyn/Duration/Duration 10/'\n",
    "\n",
    "for i in range(210):\n",
    "    i = i*10\n",
    "    fig = plt.figure(figsize=(10,8))\n",
    "    ax = fig.add_subplot(1,1,1)\n",
    "    combined[i].z.plane('z').mpl.scalar(ax=ax,cmap='bwr', clim=(-1e6, 1e6))\n",
    "    combined[i].plane('z',n=(10,10)).mpl.vector(ax=ax,color_field=combined[i].z,colorbar=False, colorbar_label='vector', cmap='pink',clim=(-1e6,1e6))\n",
    "    plt.tight_layout()\n",
    "    plt.savefig(path1+'test1_10ns'+'{i}.jpg'.format(i=i),dpi=90)\n",
    "    plt.close()"
   ]
  },
  {
   "cell_type": "code",
   "execution_count": null,
   "id": "e74eb908",
   "metadata": {},
   "outputs": [],
   "source": [
    "for i in range(1,21):\n",
    "    print(\"{:04d}\".format(i))"
   ]
  },
  {
   "cell_type": "code",
   "execution_count": null,
   "id": "62015010",
   "metadata": {},
   "outputs": [],
   "source": [
    "\n",
    "location = \"/Users/yejinhong/ubermag-test\"\n",
    "dir = \"_10ns_test8\"\n",
    "path = os.path.join(location,dir)\n",
    "\n",
    "import imageio\n",
    "data = md.Data(name=dir)\n",
    "combined =  data[0] << data[1] << data[2]\n",
    "for i in range(210):\n",
    "    i = i*10\n",
    "    fig = plt.figure(figsize=(10,8))\n",
    "    ax = fig.add_subplot(1,1,1)\n",
    "    \n",
    "    \n",
    "    combined[i].z.plane('z').mpl.scalar(ax=ax,cmap='bwr', clim=(-1e6, 1e6))\n",
    "    combined[i]plane('z',n=(10,10)).mpl.vector(ax=ax,color_field=combined[i].z,colorbar=False, colorbar_label='vector', cmap='pink',clim=(-1e6,1e6))\n",
    "    plt.tight_layout()\n",
    "    #dir1 = \"spin_10ns_test2\"\n",
    "    #path1 = os.path.join(location,dir1)\n",
    "    plt.savefig('spin_10ns_test8/{:04d}.jpg'.format(i),dpi=90)\n",
    "    plt.close()"
   ]
  },
  {
   "cell_type": "code",
   "execution_count": null,
   "id": "89e90c83",
   "metadata": {},
   "outputs": [],
   "source": [
    "gif_path = path+\"After_Duration_20.gif\"\n",
    "frames_path = path+\"{i}.jpg\"\n",
    "\n",
    "with imageio.get_writer(gif_path, mode='I',duration=0.05) as writer:\n",
    "    for i in range(210):\n",
    "        writer.append_data(imageio.imread(frames_path.format(i=i*10)))"
   ]
  },
  {
   "cell_type": "markdown",
   "id": "b2bad84f",
   "metadata": {},
   "source": [
    "## Save Data"
   ]
  },
  {
   "cell_type": "code",
   "execution_count": null,
   "id": "d434e350",
   "metadata": {},
   "outputs": [],
   "source": [
    "#path1 = '/Users/SimulationComputer/Documents/Yoselyn/'\n",
    "path1 = '/Users/yejinhong/ubermag-test/test1_10ns'\n",
    "t = combined.table.data['t'].values\n",
    "Mz = combined.table.data['mz'].values\n",
    "np.savetxt('Jc = ', (Jc), 'Hx = ', (Hx), 'Hz = ', (Hz))\n",
    "np.savetxt(path1+'3p0_current_density.txt', (t, Mz),fmt='%1.5e', delimiter =',', header = 'Time (ns), Mz')\n",
    " "
   ]
  },
  {
   "cell_type": "code",
   "execution_count": null,
   "id": "e711d7c6",
   "metadata": {},
   "outputs": [],
   "source": [
    "\n",
    "t = combined.table.data['t'].values \n",
    "Mz = combined.table.data['mz'].values\n",
    "Mx = combined.table.data['mx'].values\n",
    "My = combined.table.data['my'].values\n",
    "\n",
    "Jc_=2.8e12\n",
    "\n",
    "z = np.piecewise(t,[t<1e-9,((t>=1e-9) & (t<=11e-9)),t>11e-9],[0,Jc_,0])\n",
    "    \n",
    "f = open('_10ns_test8.txt','w')\n",
    "\n",
    "arr1 = np.column_stack(([Jc_, H_x, H_z]))\n",
    "np.savetxt(f,arr1,fmt='%.2e', delimiter =', ', header = 'Jc, Hx, Hz')\n",
    "arr2 = np.column_stack((t,Mx,My,Mz))\n",
    "np.savetxt(f, arr2,fmt='%1.5e', delimiter =', ', header = 'Time, Mx, My, Mz')\n",
    "\n",
    "#t1 = np.linspace(10e-12,1000e-12,100)\n",
    "#t2 = np.delete(t1, 99)\n",
    "#t3 = np.linspace(1000e-12, 1500e-12, 1000)\n",
    "#t4 = np.concatenate(([0],t2,t3))\n",
    "\n",
    "t_ns = t*1e9 \n",
    "\n",
    "#print(t4)\n",
    "#print(t)\n",
    "\n",
    "\n",
    "print(z)\n",
    "\n",
    "Fig = plt.figure(figsize=(8,6))\n",
    "ax1 = plt.subplot(1,1,1)\n",
    "ax1.plot(t_ns,Mz,'b', linewidth=4,label='$M_{z}$')\n",
    "#ax1.plot(t,Mz,'b',linewidth=4)\n",
    "\n",
    "#ax1.set_xlim(0, 100e-12)\n",
    "ax1.set_ylim(-1.0, 1.2)\n",
    "ax1.tick_params(direction='in',length=6, width=2, colors='k',grid_color='k',grid_alpha=0.5,labelsize=20)\n",
    "ax1.set_yticks([-1.0, -0.5, 0.0, 0.5, 1.0])\n",
    "ax1.set_xlabel('Time (ns)',fontsize=20)\n",
    "ax1.set_ylabel('$M_{z}$',fontsize=20)\n",
    "ax1.legend(loc=4,handlelength=2, fontsize=20)\n",
    "#np.array([])\n",
    "\n",
    "ax2 = ax1.twinx()\n",
    "ax2.plot(t_ns, z, 'r', linewidth=4,label='$J_{c}$')\n",
    "ax2.tick_params(direction='in',length=6, width=2, colors='k',grid_color='k',grid_alpha=0.5,labelsize=20)\n",
    "ax2.set_yticks(np.linspace(-4e12,4e12,9))\n",
    "ax2.set_ylabel('$J_{c}$',fontsize=20)\n",
    "ax2.legend(loc=3,handlelength=2, fontsize=20)\n",
    "#ax2.set_xlim(0,150e-12)\n",
    "#ax2.set_ylim(-1.6,1.6)\n",
    "#\n",
    "plt.tight_layout()\n",
    "plt.savefig('plot_10ns_test8.jpg', dpi=500)\n",
    "plt.show()"
   ]
  },
  {
   "cell_type": "markdown",
   "id": "f34cabc5",
   "metadata": {},
   "source": [
    "### Plot Data"
   ]
  },
  {
   "cell_type": "code",
   "execution_count": null,
   "id": "5e772026",
   "metadata": {},
   "outputs": [],
   "source": [
    "path1 = '/Users/SimulationComputer/Documents/Yoselyn/test2/'\n",
    "\n",
    "duration_20_n = np.genfromtxt(path1+'Duration_20.txt', skip_header=1,delimiter=',')\n",
    "\n",
    "\n",
    "\n",
    "\n",
    "\n",
    "Fig = plt.figure(figsize=(8,6))\n",
    "ax1 = plt.subplot(1,1,1)\n",
    "ax1.plot((duration_20_n[0]/1e-12) -1000, duration_20_n[1], 'r', linewidth=4,label='20 ps_$6.8 x 10^{12} A/m^{2}$')\n",
    "ax1.axvspan(0, 20, facecolor='g', alpha=0.3)\n",
    "ax1.set_xlim(-20, 300)\n",
    "ax1.tick_params(direction='in',length=6, width=2, colors='k',grid_color='k',grid_alpha=0.5,labelsize=20)\n",
    "ax1.set_yticks([-1.0, -0.5, 0.0, 0.5, 1.0])\n",
    "ax1.set_xlabel('Time (ps)',fontsize=20)\n",
    "ax1.set_ylabel('$M_{z}$',fontsize=20)\n",
    "ax1.legend(loc=1,handlelength=2, fontsize=20)\n",
    "plt.tight_layout()\n",
    "plt.savefig(path1+'Current Pulse 20.jpg', dpi=500)\n",
    "plt.show()"
   ]
  },
  {
   "cell_type": "code",
   "execution_count": null,
   "id": "fe26273f",
   "metadata": {},
   "outputs": [],
   "source": [
    "path1 = '/Users/SimulationComputer/Documents/Yoselyn/'\n",
    "duration_5 = np.genfromtxt(path1+'Duration_5.txt',skip_header=1, delimiter=',')\n",
    "duration_10 = np.genfromtxt(path1+'Duration_10.txt', skip_header=1,delimiter=',')\n",
    "duration_15 = np.genfromtxt(path1+'Duration_15.txt', skip_header=1,delimiter=',')\n",
    "duration_20 = np.genfromtxt(path1+'Duration_20.txt', skip_header=1,delimiter=',')\n",
    "duration_25 = np.genfromtxt(path1+'Duration_25.txt', skip_header=1,delimiter=',')\n",
    "duration_30 = np.genfromtxt(path1+'Duration_30.txt', skip_header=1,delimiter=',')\n",
    "duration_10_5C = np.genfromtxt(path1+'Duration_10_5C.txt', skip_header=1,delimiter=',')\n",
    "duration_10_55C = np.genfromtxt(path1+'Duration_10_5.5C.txt', skip_header=1,delimiter=',')\n",
    "duration_10_6C = np.genfromtxt(path1+'Duration_10_6.0C.txt', skip_header=1,delimiter=',')\n",
    "duration_10_65C = np.genfromtxt(path1+'Duration_10_6.5C.txt', skip_header=1,delimiter=',')\n",
    "duration_10_7C = np.genfromtxt(path1+'Duration_10_7.0C.txt', skip_header=1,delimiter=',')"
   ]
  },
  {
   "cell_type": "code",
   "execution_count": null,
   "id": "ffdfd2cb",
   "metadata": {},
   "outputs": [],
   "source": [
    "#Change colors and figure out why it's not working\n",
    "\n",
    "plt.plot(duration_5[0]/1e-9, duration_5[1], 'r', linewidth=4)\n",
    "#plt.plot(duration_10[0]/1e-9, duration_10[1], 'k', linewidth=4)\n",
    "plt.plot(duration_15[0]/1e-9, duration_15[1], 'b', linewidth=4)\n",
    "plt.plot(duration_20[0]/1e-9, duration_20[1], 'c', linewidth=4)\n",
    "plt.plot(duration_25[0]/1e-9, duration_25[1], 'g', linewidth=4)\n",
    "plt.plot(duration_30[0]/1e-9, duration_30[1], 'y', linewidth=4)\n",
    "\n",
    "\n",
    "\n",
    "\n",
    "#plt.savefig(path1+'Duration increments of 5s.jpg', dpi=500)\n",
    "plt.xlabel('Time ns')\n",
    "plt.ylabel('Mz')\n",
    "plt.xlim([0.95, 1.5])\n",
    "plt.savefig(path1+'Current Pulse Width increments of 5s.jpg', dpi=500)\n",
    "plt.show"
   ]
  },
  {
   "cell_type": "code",
   "execution_count": null,
   "id": "7b52a8b2",
   "metadata": {},
   "outputs": [],
   "source": [
    "path = '/Users/SimulationComputer/Documents/Yoselyn/test3/'\n",
    "path1 = '/Users/SimulationComputer/Documents/Yoselyn/test3/'\n",
    "path2 = '/Users/SimulationComputer/Documents/Yoselyn/test4/'\n",
    "path3 = '/Users/SimulationComputer/Documents/Yoselyn/test5/'\n",
    "path4 = '/Users/SimulationComputer/Documents/Yoselyn/test6/'\n",
    "path5 = '/Users/SimulationComputer/Documents/Yoselyn/test7/'\n",
    "path6 = '/Users/SimulationComputer/Documents/Yoselyn/test8/'\n",
    "\n",
    "duration_10_3C = np.genfromtxt(path1+'3p0_current_density.txt', skip_header=1,delimiter=',')\n",
    "duration_10_4C = np.genfromtxt(path2+'4p0_current_density.txt', skip_header=1,delimiter=',')\n",
    "duration_10_5C = np.genfromtxt(path3+'5p0_current_density.txt', skip_header=1,delimiter=',')\n",
    "duration_10_6C = np.genfromtxt(path4+'6p0_current_density.txt', skip_header=1,delimiter=',')\n",
    "duration_10_7C = np.genfromtxt(path5+'7p0_current_density.txt', skip_header=1,delimiter=',')\n",
    "duration_10_8C = np.genfromtxt(path6+'8p0_current_density.txt', skip_header=1,delimiter=',')"
   ]
  },
  {
   "cell_type": "code",
   "execution_count": null,
   "id": "29d469bb",
   "metadata": {},
   "outputs": [],
   "source": [
    "Fig = plt.figure(figsize=(8,6))\n",
    "ax1 = plt.subplot(1,1,1)\n",
    "\n",
    "ax1.axvspan(0, 20, facecolor='g', alpha=0.3)\n",
    "\n",
    "ax1.plot((duration_10_3C[0]/1e-12)-1000, duration_10_3C[1], 'r', linewidth=4, label='$3 x 10^{12} A/m^{2}$')\n",
    "ax1.plot((duration_10_4C[0]/1e-12)-1000, duration_10_4C[1], 'k', linewidth=4,label='$4 x 10^{12} A/m^{2}$', )\n",
    "ax1.plot((duration_10_5C[0]/1e-12)-1000, duration_10_5C[1], 'yellow', linewidth=4,label='$5 x 10^{12} A/m^{2}$')\n",
    "ax1.plot((duration_10_6C[0]/1e-12)-1000, duration_10_6C[1], 'g', linewidth=4,label='$6 x 10^{12} A/m^{2}$')\n",
    "ax1.plot((duration_10_7C[0]/1e-12)-1000, duration_10_7C[1], 'teal', linewidth=4,label='$7 x 10^{12} A/m^{2}$')\n",
    "#ax1.plot((duration_10_8C[0]/1e-12)-1000, duration_10_8C[1], 'b', linewidth=4,label='$8 x 10^{12} A/m^{2}$')               \n",
    "#plt.savefig(path1+'Duration increments of 5s.jpg', dpi=500)\n",
    "\n",
    "ax1.set_xlim(-20, 300)\n",
    "ax1.tick_params(direction='in',length=6, width=2, colors='k',grid_color='k',grid_alpha=0.5,labelsize=20)\n",
    "ax1.set_yticks([-1.0, -0.5, 0.0, 0.5, 1.0])\n",
    "ax1.set_xlabel('Time (ps)',fontsize=20)\n",
    "ax1.set_ylabel('$M_{z}$',fontsize=20)\n",
    "ax1.legend(loc=1,handlelength=2, fontsize=20)\n",
    "plt.tight_layout()\n",
    "\n",
    "\n",
    "\n",
    "plt.savefig(path1+'Current Density_20ps.jpg', dpi=500)\n",
    "plt.show()"
   ]
  },
  {
   "cell_type": "code",
   "execution_count": null,
   "id": "33e3e2d3",
   "metadata": {},
   "outputs": [],
   "source": []
  },
  {
   "cell_type": "code",
   "execution_count": null,
   "id": "af8f6e4f",
   "metadata": {},
   "outputs": [],
   "source": []
  },
  {
   "cell_type": "code",
   "execution_count": null,
   "id": "bbdbbee0",
   "metadata": {},
   "outputs": [],
   "source": []
  },
  {
   "cell_type": "markdown",
   "id": "23cac531",
   "metadata": {},
   "source": [
    "## Save Data"
   ]
  },
  {
   "cell_type": "code",
   "execution_count": null,
   "id": "7b32f977",
   "metadata": {},
   "outputs": [],
   "source": [
    "#path2 = '/Users/SimulationComputer/Documents/Yoselyn/Duration/test/'\n",
    "#gif_path = path2+\"Duration_10_7.0C.gif\"\n",
    "#frames_path = path2+\"{i}.jpg\"\n",
    "\n",
    "#with imageio.get_writer(gif_path, mode='I',duration=0.4) as writer:\n",
    "#    for i in range(47):\n",
    "#        writer.append_data(imageio.imread(frames_path.format(i=850+i*10)))"
   ]
  },
  {
   "cell_type": "code",
   "execution_count": null,
   "id": "0c6669d9",
   "metadata": {},
   "outputs": [],
   "source": []
  }
 ],
 "metadata": {
  "kernelspec": {
   "display_name": "Python 3 (ipykernel)",
   "language": "python",
   "name": "python3"
  },
  "language_info": {
   "codemirror_mode": {
    "name": "ipython",
    "version": 3
   },
   "file_extension": ".py",
   "mimetype": "text/x-python",
   "name": "python",
   "nbconvert_exporter": "python",
   "pygments_lexer": "ipython3",
   "version": "3.9.13"
  },
  "toc": {
   "base_numbering": 1,
   "nav_menu": {},
   "number_sections": true,
   "sideBar": true,
   "skip_h1_title": false,
   "title_cell": "Table of Contents",
   "title_sidebar": "Contents",
   "toc_cell": false,
   "toc_position": {},
   "toc_section_display": true,
   "toc_window_display": false
  }
 },
 "nbformat": 4,
 "nbformat_minor": 5
}
